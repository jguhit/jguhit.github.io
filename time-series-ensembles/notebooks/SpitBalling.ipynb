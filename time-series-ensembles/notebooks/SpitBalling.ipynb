{
 "cells": [
  {
   "cell_type": "code",
   "execution_count": 2,
   "id": "af265de4",
   "metadata": {},
   "outputs": [],
   "source": [
    "import pandas as pd\n",
    "import numpy as np\n",
    "\n",
    "from sklearn.metrics import r2_score, mean_absolute_error, mean_squared_error"
   ]
  },
  {
   "cell_type": "code",
   "execution_count": 3,
   "id": "17020d80",
   "metadata": {},
   "outputs": [],
   "source": [
    "# for now:\n",
    "# look at best way to aggregate results\n",
    "results = pd.read_csv('../results/weekly_electricity_demand_final_20230927-100113/model_predictions.csv')"
   ]
  },
  {
   "cell_type": "code",
   "execution_count": 5,
   "id": "2a38a846",
   "metadata": {},
   "outputs": [],
   "source": [
    "results = results.iloc[:, 1:]"
   ]
  },
  {
   "cell_type": "code",
   "execution_count": 7,
   "id": "08aff309",
   "metadata": {},
   "outputs": [],
   "source": [
    "results.sort_values(by = ['series', 'date'], inplace = True)"
   ]
  },
  {
   "cell_type": "code",
   "execution_count": 10,
   "id": "8d356f8d",
   "metadata": {},
   "outputs": [
    {
     "data": {
      "text/html": [
       "<div>\n",
       "<style scoped>\n",
       "    .dataframe tbody tr th:only-of-type {\n",
       "        vertical-align: middle;\n",
       "    }\n",
       "\n",
       "    .dataframe tbody tr th {\n",
       "        vertical-align: top;\n",
       "    }\n",
       "\n",
       "    .dataframe thead th {\n",
       "        text-align: right;\n",
       "    }\n",
       "</style>\n",
       "<table border=\"1\" class=\"dataframe\">\n",
       "  <thead>\n",
       "    <tr style=\"text-align: right;\">\n",
       "      <th></th>\n",
       "      <th>date</th>\n",
       "      <th>series</th>\n",
       "      <th>y_pred</th>\n",
       "      <th>y_true</th>\n",
       "      <th>window</th>\n",
       "      <th>model</th>\n",
       "    </tr>\n",
       "  </thead>\n",
       "  <tbody>\n",
       "    <tr>\n",
       "      <th>0</th>\n",
       "      <td>2012-04-15</td>\n",
       "      <td>T1</td>\n",
       "      <td>-0.333640</td>\n",
       "      <td>0.241431</td>\n",
       "      <td>7</td>\n",
       "      <td>Ridge()</td>\n",
       "    </tr>\n",
       "    <tr>\n",
       "      <th>70299</th>\n",
       "      <td>2012-04-15</td>\n",
       "      <td>T1</td>\n",
       "      <td>-0.015076</td>\n",
       "      <td>0.241431</td>\n",
       "      <td>7</td>\n",
       "      <td>Lasso(alpha=0.1)</td>\n",
       "    </tr>\n",
       "    <tr>\n",
       "      <th>140598</th>\n",
       "      <td>2012-04-15</td>\n",
       "      <td>T1</td>\n",
       "      <td>0.076851</td>\n",
       "      <td>0.241431</td>\n",
       "      <td>7</td>\n",
       "      <td>KNeighborsRegressor()</td>\n",
       "    </tr>\n",
       "    <tr>\n",
       "      <th>321</th>\n",
       "      <td>2012-04-22</td>\n",
       "      <td>T1</td>\n",
       "      <td>-0.010344</td>\n",
       "      <td>0.289845</td>\n",
       "      <td>7</td>\n",
       "      <td>Ridge()</td>\n",
       "    </tr>\n",
       "    <tr>\n",
       "      <th>70620</th>\n",
       "      <td>2012-04-22</td>\n",
       "      <td>T1</td>\n",
       "      <td>-0.014762</td>\n",
       "      <td>0.289845</td>\n",
       "      <td>7</td>\n",
       "      <td>Lasso(alpha=0.1)</td>\n",
       "    </tr>\n",
       "    <tr>\n",
       "      <th>140919</th>\n",
       "      <td>2012-04-22</td>\n",
       "      <td>T1</td>\n",
       "      <td>0.115660</td>\n",
       "      <td>0.289845</td>\n",
       "      <td>7</td>\n",
       "      <td>KNeighborsRegressor()</td>\n",
       "    </tr>\n",
       "    <tr>\n",
       "      <th>642</th>\n",
       "      <td>2012-04-29</td>\n",
       "      <td>T1</td>\n",
       "      <td>0.402086</td>\n",
       "      <td>-0.053073</td>\n",
       "      <td>7</td>\n",
       "      <td>Ridge()</td>\n",
       "    </tr>\n",
       "    <tr>\n",
       "      <th>70941</th>\n",
       "      <td>2012-04-29</td>\n",
       "      <td>T1</td>\n",
       "      <td>-0.010893</td>\n",
       "      <td>-0.053073</td>\n",
       "      <td>7</td>\n",
       "      <td>Lasso(alpha=0.1)</td>\n",
       "    </tr>\n",
       "    <tr>\n",
       "      <th>141240</th>\n",
       "      <td>2012-04-29</td>\n",
       "      <td>T1</td>\n",
       "      <td>-0.104318</td>\n",
       "      <td>-0.053073</td>\n",
       "      <td>7</td>\n",
       "      <td>KNeighborsRegressor()</td>\n",
       "    </tr>\n",
       "    <tr>\n",
       "      <th>963</th>\n",
       "      <td>2012-05-06</td>\n",
       "      <td>T1</td>\n",
       "      <td>-0.056418</td>\n",
       "      <td>-0.030502</td>\n",
       "      <td>7</td>\n",
       "      <td>Ridge()</td>\n",
       "    </tr>\n",
       "  </tbody>\n",
       "</table>\n",
       "</div>"
      ],
      "text/plain": [
       "              date series    y_pred    y_true  window                  model\n",
       "0       2012-04-15     T1 -0.333640  0.241431       7                Ridge()\n",
       "70299   2012-04-15     T1 -0.015076  0.241431       7       Lasso(alpha=0.1)\n",
       "140598  2012-04-15     T1  0.076851  0.241431       7  KNeighborsRegressor()\n",
       "321     2012-04-22     T1 -0.010344  0.289845       7                Ridge()\n",
       "70620   2012-04-22     T1 -0.014762  0.289845       7       Lasso(alpha=0.1)\n",
       "140919  2012-04-22     T1  0.115660  0.289845       7  KNeighborsRegressor()\n",
       "642     2012-04-29     T1  0.402086 -0.053073       7                Ridge()\n",
       "70941   2012-04-29     T1 -0.010893 -0.053073       7       Lasso(alpha=0.1)\n",
       "141240  2012-04-29     T1 -0.104318 -0.053073       7  KNeighborsRegressor()\n",
       "963     2012-05-06     T1 -0.056418 -0.030502       7                Ridge()"
      ]
     },
     "execution_count": 10,
     "metadata": {},
     "output_type": "execute_result"
    }
   ],
   "source": [
    "results.head(10)"
   ]
  },
  {
   "cell_type": "code",
   "execution_count": 25,
   "id": "3e519860",
   "metadata": {},
   "outputs": [],
   "source": [
    "dates1 = pd.date_range(start = '2000-01-01', periods = 5).tolist()\n",
    "dates2 = pd.date_range(start = '2000-01-01', periods = 6).tolist()\n",
    "dates3 = pd.date_range(start = '2000-01-01', periods = 5).tolist()\n",
    "y_true = np.random.normal(0, 1, size = 6).tolist()\n",
    "\n",
    "sample_df = pd.DataFrame({\n",
    "    'date': dates1 + dates2 + dates3,\n",
    "    'series': ['T1']*5 + ['T1'] * 6 + ['T1']*5,\n",
    "    'y_pred': np.random.normal(0, 1, size = 16),\n",
    "    'y_true': y_true[:5] + y_true[:6] + y_true[:5],\n",
    "    'window': [7]*5 + [14]*6 + [28]*5  \n",
    "})"
   ]
  },
  {
   "cell_type": "code",
   "execution_count": 35,
   "id": "14b3d0da",
   "metadata": {},
   "outputs": [],
   "source": [
    "pivoted = sample_df.pivot_table(index = ['series', 'date'], columns = 'window')"
   ]
  },
  {
   "cell_type": "code",
   "execution_count": 44,
   "id": "23a2e4aa",
   "metadata": {},
   "outputs": [],
   "source": [
    "pivoted         = sample_df.pivot_table(index = ['series', 'date'], columns = 'window')\n",
    "pivoted.columns = [f'{col[0]}_{col[1]}' for col in pivoted.columns]\n",
    "true_cols       = [col for col in pivoted if 'true' in col]\n",
    "pivoted = pivoted.drop(true_cols[1:], axis = 1)\n",
    "pivoted.rename({\n",
    "    true_cols[0]: 'y_true'\n",
    "}, axis = 1, inplace = True)"
   ]
  },
  {
   "cell_type": "code",
   "execution_count": 46,
   "id": "d69230ae",
   "metadata": {},
   "outputs": [
    {
     "data": {
      "text/html": [
       "<div>\n",
       "<style scoped>\n",
       "    .dataframe tbody tr th:only-of-type {\n",
       "        vertical-align: middle;\n",
       "    }\n",
       "\n",
       "    .dataframe tbody tr th {\n",
       "        vertical-align: top;\n",
       "    }\n",
       "\n",
       "    .dataframe thead th {\n",
       "        text-align: right;\n",
       "    }\n",
       "</style>\n",
       "<table border=\"1\" class=\"dataframe\">\n",
       "  <thead>\n",
       "    <tr style=\"text-align: right;\">\n",
       "      <th></th>\n",
       "      <th></th>\n",
       "      <th>y_pred_7</th>\n",
       "      <th>y_pred_14</th>\n",
       "      <th>y_pred_28</th>\n",
       "      <th>y_true</th>\n",
       "    </tr>\n",
       "    <tr>\n",
       "      <th>series</th>\n",
       "      <th>date</th>\n",
       "      <th></th>\n",
       "      <th></th>\n",
       "      <th></th>\n",
       "      <th></th>\n",
       "    </tr>\n",
       "  </thead>\n",
       "  <tbody>\n",
       "    <tr>\n",
       "      <th rowspan=\"5\" valign=\"top\">T1</th>\n",
       "      <th>2000-01-01</th>\n",
       "      <td>1.304682</td>\n",
       "      <td>0.273697</td>\n",
       "      <td>-0.947164</td>\n",
       "      <td>-1.162020</td>\n",
       "    </tr>\n",
       "    <tr>\n",
       "      <th>2000-01-02</th>\n",
       "      <td>-1.013250</td>\n",
       "      <td>0.729635</td>\n",
       "      <td>1.561298</td>\n",
       "      <td>-0.781517</td>\n",
       "    </tr>\n",
       "    <tr>\n",
       "      <th>2000-01-03</th>\n",
       "      <td>1.458510</td>\n",
       "      <td>-1.243492</td>\n",
       "      <td>-1.098176</td>\n",
       "      <td>0.106502</td>\n",
       "    </tr>\n",
       "    <tr>\n",
       "      <th>2000-01-04</th>\n",
       "      <td>0.618664</td>\n",
       "      <td>0.214940</td>\n",
       "      <td>0.706530</td>\n",
       "      <td>-0.552237</td>\n",
       "    </tr>\n",
       "    <tr>\n",
       "      <th>2000-01-05</th>\n",
       "      <td>-0.248347</td>\n",
       "      <td>-0.228392</td>\n",
       "      <td>0.056837</td>\n",
       "      <td>-0.955779</td>\n",
       "    </tr>\n",
       "  </tbody>\n",
       "</table>\n",
       "</div>"
      ],
      "text/plain": [
       "                   y_pred_7  y_pred_14  y_pred_28    y_true\n",
       "series date                                                \n",
       "T1     2000-01-01  1.304682   0.273697  -0.947164 -1.162020\n",
       "       2000-01-02 -1.013250   0.729635   1.561298 -0.781517\n",
       "       2000-01-03  1.458510  -1.243492  -1.098176  0.106502\n",
       "       2000-01-04  0.618664   0.214940   0.706530 -0.552237\n",
       "       2000-01-05 -0.248347  -0.228392   0.056837 -0.955779"
      ]
     },
     "execution_count": 46,
     "metadata": {},
     "output_type": "execute_result"
    }
   ],
   "source": [
    "pivoted.dropna()"
   ]
  },
  {
   "cell_type": "code",
   "execution_count": 53,
   "id": "10d007f5",
   "metadata": {},
   "outputs": [
    {
     "data": {
      "text/plain": [
       "<bound method Index.isin of DatetimeIndex(['2000-01-01', '2000-01-02', '2000-01-03', '2000-01-04',\n",
       "               '2000-01-05', '2000-01-06'],\n",
       "              dtype='datetime64[ns]', name='date', freq=None)>"
      ]
     },
     "execution_count": 53,
     "metadata": {},
     "output_type": "execute_result"
    }
   ],
   "source": [
    "pivoted.index.get_level_values(-1).isin()"
   ]
  },
  {
   "cell_type": "code",
   "execution_count": 50,
   "id": "d8e623fd",
   "metadata": {},
   "outputs": [
    {
     "data": {
      "text/plain": [
       "array(['2000-01-01T00:00:00.000000000', '2000-01-02T00:00:00.000000000',\n",
       "       '2000-01-03T00:00:00.000000000', '2000-01-04T00:00:00.000000000',\n",
       "       '2000-01-05T00:00:00.000000000', '2000-01-06T00:00:00.000000000'],\n",
       "      dtype='datetime64[ns]')"
      ]
     },
     "execution_count": 50,
     "metadata": {},
     "output_type": "execute_result"
    }
   ],
   "source": [
    "pivoted.indexpivoted.reset_index().date.unique()"
   ]
  },
  {
   "cell_type": "code",
   "execution_count": 34,
   "id": "1d554b37",
   "metadata": {},
   "outputs": [
    {
     "data": {
      "text/plain": [
       "'1'"
      ]
     },
     "execution_count": 34,
     "metadata": {},
     "output_type": "execute_result"
    }
   ],
   "source": [
    "pivoted.columns[0]"
   ]
  },
  {
   "cell_type": "code",
   "execution_count": 30,
   "id": "575277ec",
   "metadata": {},
   "outputs": [],
   "source": [
    "columns = ['1', '2', '3', '4', '5', '6']"
   ]
  },
  {
   "cell_type": "code",
   "execution_count": 31,
   "id": "1888516f",
   "metadata": {},
   "outputs": [],
   "source": [
    "pivoted.columns = columns"
   ]
  },
  {
   "cell_type": "code",
   "execution_count": 32,
   "id": "ec35ae37",
   "metadata": {},
   "outputs": [
    {
     "data": {
      "text/plain": [
       "Index(['1', '2', '3', '4', '5', '6'], dtype='object')"
      ]
     },
     "execution_count": 32,
     "metadata": {},
     "output_type": "execute_result"
    }
   ],
   "source": [
    "pivoted.columns"
   ]
  },
  {
   "cell_type": "code",
   "execution_count": 33,
   "id": "9beba491",
   "metadata": {},
   "outputs": [
    {
     "data": {
      "text/html": [
       "<div>\n",
       "<style scoped>\n",
       "    .dataframe tbody tr th:only-of-type {\n",
       "        vertical-align: middle;\n",
       "    }\n",
       "\n",
       "    .dataframe tbody tr th {\n",
       "        vertical-align: top;\n",
       "    }\n",
       "\n",
       "    .dataframe thead th {\n",
       "        text-align: right;\n",
       "    }\n",
       "</style>\n",
       "<table border=\"1\" class=\"dataframe\">\n",
       "  <thead>\n",
       "    <tr style=\"text-align: right;\">\n",
       "      <th></th>\n",
       "      <th></th>\n",
       "      <th>1</th>\n",
       "      <th>2</th>\n",
       "      <th>3</th>\n",
       "      <th>4</th>\n",
       "      <th>5</th>\n",
       "      <th>6</th>\n",
       "    </tr>\n",
       "    <tr>\n",
       "      <th>series</th>\n",
       "      <th>date</th>\n",
       "      <th></th>\n",
       "      <th></th>\n",
       "      <th></th>\n",
       "      <th></th>\n",
       "      <th></th>\n",
       "      <th></th>\n",
       "    </tr>\n",
       "  </thead>\n",
       "  <tbody>\n",
       "    <tr>\n",
       "      <th rowspan=\"6\" valign=\"top\">T1</th>\n",
       "      <th>2000-01-01</th>\n",
       "      <td>1.304682</td>\n",
       "      <td>0.273697</td>\n",
       "      <td>-0.947164</td>\n",
       "      <td>-1.162020</td>\n",
       "      <td>-1.162020</td>\n",
       "      <td>-1.162020</td>\n",
       "    </tr>\n",
       "    <tr>\n",
       "      <th>2000-01-02</th>\n",
       "      <td>-1.013250</td>\n",
       "      <td>0.729635</td>\n",
       "      <td>1.561298</td>\n",
       "      <td>-0.781517</td>\n",
       "      <td>-0.781517</td>\n",
       "      <td>-0.781517</td>\n",
       "    </tr>\n",
       "    <tr>\n",
       "      <th>2000-01-03</th>\n",
       "      <td>1.458510</td>\n",
       "      <td>-1.243492</td>\n",
       "      <td>-1.098176</td>\n",
       "      <td>0.106502</td>\n",
       "      <td>0.106502</td>\n",
       "      <td>0.106502</td>\n",
       "    </tr>\n",
       "    <tr>\n",
       "      <th>2000-01-04</th>\n",
       "      <td>0.618664</td>\n",
       "      <td>0.214940</td>\n",
       "      <td>0.706530</td>\n",
       "      <td>-0.552237</td>\n",
       "      <td>-0.552237</td>\n",
       "      <td>-0.552237</td>\n",
       "    </tr>\n",
       "    <tr>\n",
       "      <th>2000-01-05</th>\n",
       "      <td>-0.248347</td>\n",
       "      <td>-0.228392</td>\n",
       "      <td>0.056837</td>\n",
       "      <td>-0.955779</td>\n",
       "      <td>-0.955779</td>\n",
       "      <td>-0.955779</td>\n",
       "    </tr>\n",
       "    <tr>\n",
       "      <th>2000-01-06</th>\n",
       "      <td>NaN</td>\n",
       "      <td>-1.229370</td>\n",
       "      <td>NaN</td>\n",
       "      <td>NaN</td>\n",
       "      <td>1.197470</td>\n",
       "      <td>NaN</td>\n",
       "    </tr>\n",
       "  </tbody>\n",
       "</table>\n",
       "</div>"
      ],
      "text/plain": [
       "                          1         2         3         4         5         6\n",
       "series date                                                                  \n",
       "T1     2000-01-01  1.304682  0.273697 -0.947164 -1.162020 -1.162020 -1.162020\n",
       "       2000-01-02 -1.013250  0.729635  1.561298 -0.781517 -0.781517 -0.781517\n",
       "       2000-01-03  1.458510 -1.243492 -1.098176  0.106502  0.106502  0.106502\n",
       "       2000-01-04  0.618664  0.214940  0.706530 -0.552237 -0.552237 -0.552237\n",
       "       2000-01-05 -0.248347 -0.228392  0.056837 -0.955779 -0.955779 -0.955779\n",
       "       2000-01-06       NaN -1.229370       NaN       NaN  1.197470       NaN"
      ]
     },
     "execution_count": 33,
     "metadata": {},
     "output_type": "execute_result"
    }
   ],
   "source": [
    "pivoted"
   ]
  },
  {
   "cell_type": "code",
   "execution_count": null,
   "id": "f2d81797",
   "metadata": {},
   "outputs": [],
   "source": []
  }
 ],
 "metadata": {
  "kernelspec": {
   "display_name": "Python 3 (ipykernel)",
   "language": "python",
   "name": "python3"
  },
  "language_info": {
   "codemirror_mode": {
    "name": "ipython",
    "version": 3
   },
   "file_extension": ".py",
   "mimetype": "text/x-python",
   "name": "python",
   "nbconvert_exporter": "python",
   "pygments_lexer": "ipython3",
   "version": "3.8.15"
  }
 },
 "nbformat": 4,
 "nbformat_minor": 5
}
